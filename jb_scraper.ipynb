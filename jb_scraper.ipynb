{
 "cells": [
  {
   "cell_type": "code",
   "execution_count": 2,
   "metadata": {},
   "outputs": [],
   "source": [
    "from time import sleep\n",
    "from json import loads\n",
    "\n",
    "from selenium import webdriver\n",
    "from selenium.webdriver.chrome.service import Service as ChromeService\n",
    "from selenium.webdriver.chrome.options import Options as ChromeOptions\n",
    "from webdriver_manager.chrome import ChromeDriverManager\n",
    "from webdriver_manager.core.driver_cache import DriverCacheManager\n",
    "from pandas import json_normalize\n",
    "from requests import Session"
   ]
  },
  {
   "cell_type": "code",
   "execution_count": 3,
   "metadata": {},
   "outputs": [],
   "source": [
    "class WebDriverManager:\n",
    "    def __init__(self):\n",
    "        self.driver = None\n",
    "\n",
    "    def __enter__(self):\n",
    "        self.driver = self.setup_headless_chrome()\n",
    "        return self.driver\n",
    "\n",
    "    def __exit__(self, exc_type, exc_val, exc_tb):\n",
    "        if self.driver:\n",
    "            self.driver.quit()\n",
    "\n",
    "    @staticmethod\n",
    "    def setup_headless_chrome():\n",
    "        options = ChromeOptions()\n",
    "        options.add_argument(\"--headless=new\")\n",
    "        options.add_argument(\"--no-sandbox\")\n",
    "        options.add_argument(\"--disable-dev-shm-usage\")\n",
    "        options.add_argument(\"--disable-gpu\")\n",
    "        options.add_argument(\"--disable-extensions\")\n",
    "        options.add_argument(\"--remote-debugging-port=9222\")\n",
    "        options.add_argument(\"--disable-software-rasterizer\")\n",
    "        options.set_capability('goog:loggingPrefs', {\"performance\": \"ALL\", \"browser\": \"ALL\"})\n",
    "\n",
    "        service = ChromeService(ChromeDriverManager(cache_manager=DriverCacheManager(valid_range=1)).install())\n",
    "        \n",
    "        driver = webdriver.Chrome(service=service, options=options)\n",
    "        return driver"
   ]
  },
  {
   "cell_type": "code",
   "execution_count": 4,
   "metadata": {},
   "outputs": [
    {
     "name": "stdout",
     "output_type": "stream",
     "text": [
      "Quit successfully\n"
     ]
    }
   ],
   "source": [
    "op_gg_summoner_profile_url = \"https://www.op.gg/summoners/na/Fire-2842/champions\"\n",
    "\n",
    "with WebDriverManager() as driver:\n",
    "    # Navigate to the page and wait for network requests to complete\n",
    "    driver.get(op_gg_summoner_profile_url)\n",
    "\n",
    "    # Sleep 10 seconds\n",
    "    sleep(10)\n",
    "\n",
    "    # Capture network logs\n",
    "    logs = driver.get_log(\"performance\")"
   ]
  },
  {
   "cell_type": "code",
   "execution_count": 5,
   "metadata": {},
   "outputs": [],
   "source": [
    "# Extract and parse the JSON from the 'message' key\n",
    "parsed_logs = [loads(log['message']) for log in logs]\n",
    "for log, parsed in zip(logs, parsed_logs):\n",
    "     parsed['level'] = log['level']\n",
    "     parsed['timestamp'] = log['timestamp']\n",
    "\n",
    "# Load it into a dataframe\n",
    "df = json_normalize(parsed_logs)\n",
    "\n",
    "# Filter down to those with the op.gg API response URLs\n",
    "domain = 'lol-web-api.op.gg'\n",
    "df = df[df['message.params.response.url'].fillna('').str.contains(domain)]\n",
    "\n",
    "# Extract Summoner ID\n",
    "# Define the regex pattern with a capturing group\n",
    "pattern = r'https:\\/\\/lol-web-api\\.op\\.gg\\/api\\/v1\\.0\\/internal\\/bypass\\/summoners\\/na\\/([^\\/]+)\\/most-champions\\/rank\\?game_type=RANKED&season_id=27'\n",
    "df.loc[:, 'api_summoner_id'] = df['message.params.response.url'].str.extract(pattern)\n",
    "\n",
    "# Quick check: ensure only one summoner ID found\n",
    "assert df['api_summoner_id'].nunique() == 1\n",
    "\n",
    "# Extract into variable to build a URL str\n",
    "summoner_id = df[df['api_summoner_id'].notna()].iloc[0,-1]"
   ]
  },
  {
   "cell_type": "code",
   "execution_count": 6,
   "metadata": {},
   "outputs": [
    {
     "name": "stdout",
     "output_type": "stream",
     "text": [
      "Data saved to data/output.csv\n"
     ]
    }
   ],
   "source": [
    "# Define filepath to save data\n",
    "output_file = \"data/output.csv\"\n",
    "# Build call API url\n",
    "base_url = \"https://lol-web-api.op.gg/api/v1.0/internal/bypass/summoners/na/\"\n",
    "endpoint = \"/most-champions/rank?game_type=RANKED&season_id=27\"\n",
    "full_url = base_url + summoner_id + endpoint\n",
    "\n",
    "with Session() as session:\n",
    "    # Make the call\n",
    "    response = session.get(full_url)\n",
    "\n",
    "# Attempt to extract and save data\n",
    "if response.ok:\n",
    "    data = response.json()\n",
    "    df = json_normalize(data)\n",
    "    df.to_csv(output_file, index=False)\n",
    "    print(\"Data saved to\", output_file)\n",
    "else:\n",
    "    print(f\"Failed to retrieve data: {response.status_code}\")"
   ]
  },
  {
   "cell_type": "code",
   "execution_count": null,
   "metadata": {},
   "outputs": [],
   "source": []
  }
 ],
 "metadata": {
  "kernelspec": {
   "display_name": ".venv",
   "language": "python",
   "name": "python3"
  },
  "language_info": {
   "codemirror_mode": {
    "name": "ipython",
    "version": 3
   },
   "file_extension": ".py",
   "mimetype": "text/x-python",
   "name": "python",
   "nbconvert_exporter": "python",
   "pygments_lexer": "ipython3",
   "version": "3.10.11"
  }
 },
 "nbformat": 4,
 "nbformat_minor": 2
}
