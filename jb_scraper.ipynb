{
 "cells": [
  {
   "cell_type": "code",
   "execution_count": null,
   "metadata": {},
   "outputs": [],
   "source": [
    "# Ensure have venv (e.g. `python -m venv .venv`)\n",
    "# Ensure venv is activated/sourced (e.g. `.venv/scripts/activate` or `source .venv/bin/activate`)\n",
    "# Ensure venv has dependencies installed (e.g. `python -m pip install -Uqqr requirements.txt`)\n",
    "# Ensure notebook is using the venv as a Pythonkernel"
   ]
  },
  {
   "cell_type": "markdown",
   "metadata": {},
   "source": [
    "# Attempts"
   ]
  },
  {
   "cell_type": "markdown",
   "metadata": {},
   "source": [
    "## w/ `requests_html` rendering"
   ]
  },
  {
   "cell_type": "code",
   "execution_count": null,
   "metadata": {},
   "outputs": [],
   "source": [
    "import os\n",
    "\n",
    "# requests-html and a dependency of it (pyppeteer) are no longer maintained, \n",
    "# so need to update env var to fix common issue\n",
    "\n",
    "# Get latest revision number @ https://chromium.woolyss.com/download/en/#windows\n",
    "chromium_revision_number = 1330662\n",
    "\n",
    "# Update environment variable with latest revision number\n",
    "os.environ['PYPPETEER_CHROMIUM_REVISION'] = str(chromium_revision_number)"
   ]
  },
  {
   "cell_type": "code",
   "execution_count": null,
   "metadata": {},
   "outputs": [],
   "source": [
    "import nest_asyncio\n",
    "\n",
    "# Allow nested event loops\n",
    "nest_asyncio.apply()"
   ]
  },
  {
   "cell_type": "code",
   "execution_count": null,
   "metadata": {},
   "outputs": [],
   "source": [
    "from requests_html import AsyncHTMLSession\n",
    "from bs4 import BeautifulSoup"
   ]
  },
  {
   "cell_type": "code",
   "execution_count": null,
   "metadata": {},
   "outputs": [],
   "source": [
    "# NOTE: initial run may download the latest Chromium version\n",
    "\n",
    "url = \"https://www.op.gg/summoners/na/Fire-2842\"\n",
    "asession = AsyncHTMLSession()\n",
    "try:\n",
    "    # Navigate to the page and wait for network requests to complete\n",
    "    r = await asession.get(url)\n",
    "    await r.html.arender(sleep=10)\n",
    "finally:\n",
    "    await asession.close()"
   ]
  },
  {
   "cell_type": "code",
   "execution_count": null,
   "metadata": {},
   "outputs": [],
   "source": [
    "# Parse HTML from reponse using lxml parser into soup\n",
    "soup = BeautifulSoup(r.html.raw_html, 'lxml')"
   ]
  },
  {
   "cell_type": "code",
   "execution_count": null,
   "metadata": {},
   "outputs": [],
   "source": [
    "# Ensure that the response contains the expected rendered HTML"
   ]
  },
  {
   "cell_type": "markdown",
   "metadata": {},
   "source": [
    "## w/ `selenium` rendering"
   ]
  },
  {
   "cell_type": "code",
   "execution_count": null,
   "metadata": {},
   "outputs": [],
   "source": [
    "import time\n",
    "\n",
    "from selenium import webdriver\n",
    "from selenium.webdriver.chrome.service import Service as ChromeService\n",
    "from selenium.webdriver.chrome.options import Options as ChromeOptions\n",
    "from webdriver_manager.chrome import ChromeDriverManager\n",
    "from webdriver_manager.core.driver_cache import DriverCacheManager\n",
    "from selenium.webdriver.common.by import By\n",
    "from selenium.webdriver.chrome.options import Options\n",
    "from selenium.webdriver.support.ui import WebDriverWait\n",
    "from selenium.webdriver.support import expected_conditions as EC\n",
    "from bs4 import BeautifulSoup\n",
    "import pandas as pd"
   ]
  },
  {
   "cell_type": "code",
   "execution_count": null,
   "metadata": {},
   "outputs": [],
   "source": [
    "class WebDriverManager:\n",
    "    def __init__(self):\n",
    "        self.driver = None\n",
    "\n",
    "    def __enter__(self):\n",
    "        self.driver = self.setup_headless_chrome()\n",
    "        return self.driver\n",
    "\n",
    "    def __exit__(self, exc_type, exc_val, exc_tb):\n",
    "        if self.driver:\n",
    "            self.driver.quit()\n",
    "\n",
    "    @staticmethod\n",
    "    def setup_headless_chrome():\n",
    "        options = ChromeOptions()\n",
    "        options.add_argument(\"--headless=new\")\n",
    "        options.add_argument(\"--no-sandbox\")\n",
    "        options.add_argument(\"--disable-dev-shm-usage\")\n",
    "        options.add_argument(\"--disable-gpu\")\n",
    "        options.add_argument(\"--disable-extensions\")\n",
    "        options.add_argument(\"--remote-debugging-port=9222\")\n",
    "        options.add_argument(\"--disable-software-rasterizer\")\n",
    "        options.set_capability('goog:loggingPrefs', {\"performance\": \"ALL\", \"browser\": \"ALL\"})\n",
    "\n",
    "        service = ChromeService(ChromeDriverManager(cache_manager=DriverCacheManager(valid_range=1)).install())\n",
    "        \n",
    "        driver = webdriver.Chrome(service=service, options=options)\n",
    "        return driver"
   ]
  },
  {
   "cell_type": "code",
   "execution_count": null,
   "metadata": {},
   "outputs": [],
   "source": [
    "target_url = \"lol-web-api.op.gg/api/v1.0/internal/bypass/games/na/summoners\"\n",
    "op_gg_summoner_profile_url = \"https://www.op.gg/summoners/na/Fire-2842\"\n",
    "output_file = \"data/output.csv\""
   ]
  },
  {
   "cell_type": "code",
   "execution_count": null,
   "metadata": {},
   "outputs": [],
   "source": [
    "with WebDriverManager() as driver:\n",
    "    # Navigate to the page and wait for network requests to complete\n",
    "    driver.get(op_gg_summoner_profile_url)\n",
    "\n",
    "    # # Wait for the specific element to load if necessary, helps ensure page is fully loaded\n",
    "    # WebDriverWait(driver, 10).until(\n",
    "    #     EC.presence_of_element_located((By.ID, '__next'))\n",
    "    # )\n",
    "\n",
    "    # Sleep 10 seconds\n",
    "    time.sleep(10)\n",
    "\n",
    "    # Get the page source after rendering\n",
    "    html_content = driver.page_source\n",
    "\n",
    "# Parse HTML with BeautifulSoup\n",
    "soup = BeautifulSoup(html_content, 'lxml')\n",
    "\n",
    "# print(soup.prettify()[:1000])"
   ]
  },
  {
   "cell_type": "code",
   "execution_count": null,
   "metadata": {},
   "outputs": [],
   "source": [
    "# # Capture network logs\n",
    "# logs = driver.get_log(\"performance\")\n",
    "# print(f\"Captured {len(logs)} performance logs.\")  # Debugging: print number of logs captured\n",
    "\n",
    "# # Extract and parse the JSON from the 'message' key\n",
    "# parsed_logs = [json.loads(log['message']) for log in logs]\n",
    "# for log, parsed in zip(logs, parsed_logs):\n",
    "#     parsed['level'] = log['level']\n",
    "#     parsed['timestamp'] = log['timestamp']\n",
    "\n",
    "# df = pd.json_normalize(parsed_logs)\n",
    "\n",
    "# _ = df[df['message.params.response.url'].fillna('').str.contains('data')]\n",
    "\n",
    "# with pd.option_context('display.max_rows', None):\n",
    "#     display(_.T)"
   ]
  },
  {
   "cell_type": "code",
   "execution_count": null,
   "metadata": {},
   "outputs": [],
   "source": [
    "# base_url = \"https://lol-web-api.op.gg/api/v1.0/internal/bypass/summoners/na/\"\n",
    "# endpoint = \"/most-champions/rank?game_type=RANKED&season_id=27\"\n",
    "# full_url = base_url + summoner_id + endpoint\n",
    "\n",
    "# response = requests.get(full_url)\n",
    "\n",
    "# if response.status_code == 200:\n",
    "#     data = response.json()\n",
    "#     df = pd.json_normalize(data)\n",
    "#     df.to_csv(output_file, index=False)\n",
    "#     print(\"Data saved to\", output_file)\n",
    "# else:\n",
    "#     print(f\"Failed to retrieve data: {response.status_code}\")"
   ]
  },
  {
   "cell_type": "code",
   "execution_count": null,
   "metadata": {},
   "outputs": [],
   "source": []
  }
 ],
 "metadata": {
  "kernelspec": {
   "display_name": ".venv",
   "language": "python",
   "name": "python3"
  },
  "language_info": {
   "codemirror_mode": {
    "name": "ipython",
    "version": 3
   },
   "file_extension": ".py",
   "mimetype": "text/x-python",
   "name": "python",
   "nbconvert_exporter": "python",
   "pygments_lexer": "ipython3",
   "version": "3.10.11"
  }
 },
 "nbformat": 4,
 "nbformat_minor": 2
}
